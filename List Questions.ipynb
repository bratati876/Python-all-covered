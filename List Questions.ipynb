{
 "cells": [
  {
   "cell_type": "markdown",
   "metadata": {},
   "source": [
    "# list Questions"
   ]
  },
  {
   "cell_type": "code",
   "execution_count": 1,
   "metadata": {},
   "outputs": [
    {
     "name": "stdout",
     "output_type": "stream",
     "text": [
      "True\n"
     ]
    }
   ],
   "source": [
    "#1. Check if a list contains an element\n",
    "\n",
    "list1=[3,4,5,6,2,2,\"good\",\"bad\"]\n",
    "print(3 in list1)"
   ]
  },
  {
   "cell_type": "code",
   "execution_count": 5,
   "metadata": {},
   "outputs": [
    {
     "name": "stdout",
     "output_type": "stream",
     "text": [
      "rose in Summers with Guava\n",
      "merrigold in winters with banana\n",
      "chameli in monsoon with grapes\n",
      "lotus in spring with kiwi\n"
     ]
    }
   ],
   "source": [
    "#How to iterate over 2+ lists at the same time\n",
    "# using the zip object\n",
    "\n",
    "flowers=[\"rose\",\"merrigold\",\"chameli\",\"lotus\"]\n",
    "seasons=[\"Summers\",\"winters\",\"monsoon\",\"spring\"]\n",
    "fruits=[\"Guava\",\"banana\",\"grapes\",\"kiwi\"]\n",
    "\n",
    "z=zip(flowers,seasons,fruits)\n",
    "\n",
    "for i,j,k in z:\n",
    "    print(\"%s in %s with %s\"%(i,j,k))\n"
   ]
  },
  {
   "cell_type": "code",
   "execution_count": 5,
   "metadata": {},
   "outputs": [
    {
     "name": "stdout",
     "output_type": "stream",
     "text": [
      "wayfers\n"
     ]
    }
   ],
   "source": [
    "# difference b/w append() and extend()\n",
    "\n",
    "food=[\"pizza\",\"berger\",\"cupcake\",\"nachos\",\"water\"]\n",
    "food.append([\"biriyani\",\"aloo\"]) # added at the end\n",
    "\n",
    "fastfood=[\"roll\",\"pakora\",\"chowmein\",\"wayfers\"]\n",
    "number=[6,9,45,23,47938,2929]\n",
    "fastfood.reverse()\n",
    "food.extend([\"biriyani\",\"aloo\"]) # adding multiple elements at the end\n",
    "food.extend(fastfood)\n",
    "food\n",
    "print(max(fastfood))"
   ]
  },
  {
   "cell_type": "code",
   "execution_count": 15,
   "metadata": {},
   "outputs": [
    {
     "ename": "TypeError",
     "evalue": "unsupported operand type(s) for +: 'int' and 'str'",
     "output_type": "error",
     "traceback": [
      "\u001b[1;31m---------------------------------------------------------------------------\u001b[0m",
      "\u001b[1;31mTypeError\u001b[0m                                 Traceback (most recent call last)",
      "\u001b[1;32m<ipython-input-15-49071aeafd84>\u001b[0m in \u001b[0;36m<module>\u001b[1;34m\u001b[0m\n\u001b[0;32m     10\u001b[0m \u001b[0mfood\u001b[0m\u001b[1;33m\u001b[0m\u001b[1;33m\u001b[0m\u001b[0m\n\u001b[0;32m     11\u001b[0m \u001b[1;31m#sum\u001b[0m\u001b[1;33m\u001b[0m\u001b[1;33m\u001b[0m\u001b[1;33m\u001b[0m\u001b[0m\n\u001b[1;32m---> 12\u001b[1;33m \u001b[0mprint\u001b[0m\u001b[1;33m(\u001b[0m\u001b[0msum\u001b[0m\u001b[1;33m(\u001b[0m\u001b[0mfood\u001b[0m\u001b[1;33m)\u001b[0m\u001b[1;33m)\u001b[0m\u001b[1;33m\u001b[0m\u001b[1;33m\u001b[0m\u001b[0m\n\u001b[0m\u001b[0;32m     13\u001b[0m \u001b[1;33m\u001b[0m\u001b[0m\n",
      "\u001b[1;31mTypeError\u001b[0m: unsupported operand type(s) for +: 'int' and 'str'"
     ]
    }
   ],
   "source": [
    "# del\n",
    "food=[\"pizza\",\"berger\",\"cupcake\",\"nachos\",\"water\"]\n",
    "del(food[0])\n",
    "food\n",
    "# pop\n",
    "food.pop(0)\n",
    "food\n",
    "# remove\n",
    "food.remove(\"nachos\")\n",
    "food\n",
    "#sum\n",
    "print(sum(food))\n",
    "\n"
   ]
  },
  {
   "cell_type": "code",
   "execution_count": 41,
   "metadata": {},
   "outputs": [
    {
     "data": {
      "text/plain": [
       "[7, 8, 8, 9]"
      ]
     },
     "execution_count": 41,
     "metadata": {},
     "output_type": "execute_result"
    }
   ],
   "source": [
    "list1=[7,8,8,8,9]\n",
    "list1.remove(8)\n",
    "list1"
   ]
  }
 ],
 "metadata": {
  "kernelspec": {
   "display_name": "Python 3",
   "language": "python",
   "name": "python3"
  },
  "language_info": {
   "codemirror_mode": {
    "name": "ipython",
    "version": 3
   },
   "file_extension": ".py",
   "mimetype": "text/x-python",
   "name": "python",
   "nbconvert_exporter": "python",
   "pygments_lexer": "ipython3",
   "version": "3.8.3"
  }
 },
 "nbformat": 4,
 "nbformat_minor": 4
}
