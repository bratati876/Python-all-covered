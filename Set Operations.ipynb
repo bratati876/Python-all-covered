{
 "cells": [
  {
   "cell_type": "code",
   "execution_count": null,
   "metadata": {},
   "outputs": [],
   "source": [
    "\n",
    "# All the methods operations of python sets\n",
    "\n",
    "dict1=set()\n",
    "# print(type(dict1))\n",
    "dict1={7,9,8,5,0}\n",
    "dict2={6,9,3,8,4}\n",
    "\n",
    "dict1.union(dict2)\n",
    "dict1.add(78)\n",
    "dict1.intersection(dict2)\n",
    "# dict1.intersection_update(dict2)\n",
    "dict1.difference(dict2)\n",
    "# dict1.difference_update(dict2)\n",
    "# print(dict1)\n",
    "dict1.issubset(dict2)\n",
    "dict1.isdisjoint(dict2)\n",
    "dict1.issuperset(dict2)\n",
    "dict1.remove(78)\n",
    "print(dict1)\n",
    "print(dict2)\n",
    "\n",
    "dict1.symmetric_difference(dict2)\n",
    "dict1.symmetric_difference_update(dict2)\n",
    "dict1\n"
   ]
  },
  {
   "cell_type": "code",
   "execution_count": 12,
   "metadata": {},
   "outputs": [
    {
     "name": "stdout",
     "output_type": "stream",
     "text": [
      "5\n",
      "yes\n"
     ]
    }
   ],
   "source": [
    "n=int(input())\n",
    "\n",
    "if n in range(3,6):\n",
    "    print(\"yes\")"
   ]
  }
 ],
 "metadata": {
  "kernelspec": {
   "display_name": "Python 3",
   "language": "python",
   "name": "python3"
  },
  "language_info": {
   "codemirror_mode": {
    "name": "ipython",
    "version": 3
   },
   "file_extension": ".py",
   "mimetype": "text/x-python",
   "name": "python",
   "nbconvert_exporter": "python",
   "pygments_lexer": "ipython3",
   "version": "3.8.3"
  }
 },
 "nbformat": 4,
 "nbformat_minor": 4
}
