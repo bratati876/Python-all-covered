{
 "cells": [
  {
   "cell_type": "code",
   "execution_count": 18,
   "metadata": {},
   "outputs": [
    {
     "name": "stdout",
     "output_type": "stream",
     "text": [
      "<class 'dict'>\n",
      "{'Bratati': 20, 'vasu': 34, 'ankit': 56, 'spandan': 45}\n"
     ]
    },
    {
     "data": {
      "text/plain": [
       "20"
      ]
     },
     "execution_count": 18,
     "metadata": {},
     "output_type": "execute_result"
    }
   ],
   "source": [
    "dict1=dict() # creating an empty dictionary\n",
    "print(type(dict1))\n",
    "# in dictionary item is a key:value pair\n",
    "dict1={\"Bratati\":20,\"vasu\":34,\"ankit\":56,\"spandan\":45}\n",
    "print(dict1)\n",
    "\n",
    "dict1.items()\n",
    "dict1.popitem() # by default delets the last item also returns the item\n",
    "dict1.pop(\"vasu\") # here we ahve to specify the key to delete that item\n",
    "dict1.get(\"Bratati\")\n"
   ]
  }
 ],
 "metadata": {
  "kernelspec": {
   "display_name": "Python 3",
   "language": "python",
   "name": "python3"
  },
  "language_info": {
   "codemirror_mode": {
    "name": "ipython",
    "version": 3
   },
   "file_extension": ".py",
   "mimetype": "text/x-python",
   "name": "python",
   "nbconvert_exporter": "python",
   "pygments_lexer": "ipython3",
   "version": "3.8.3"
  }
 },
 "nbformat": 4,
 "nbformat_minor": 4
}
